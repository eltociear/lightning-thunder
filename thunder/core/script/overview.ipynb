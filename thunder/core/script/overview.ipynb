{
 "cells": [
  {
   "cell_type": "code",
   "execution_count": 1,
   "id": "5c236b7e-9191-4ead-8d76-cd789c09f810",
   "metadata": {},
   "outputs": [],
   "source": [
    "import os\n",
    "import sys\n",
    "\n",
    "thunder_path = os.path.abspath(os.path.join(os.path.abspath(\"\"), \"..\", \"..\", \"..\"))\n",
    "if thunder_path not in sys.path:\n",
    "    sys.path.append(thunder_path)"
   ]
  },
  {
   "cell_type": "code",
   "execution_count": 2,
   "id": "332a649c-cf11-4803-ae91-fff31d31d359",
   "metadata": {},
   "outputs": [],
   "source": [
    "import thunder"
   ]
  },
  {
   "cell_type": "code",
   "execution_count": 3,
   "id": "02373250-c7b0-446b-ad21-6e847d58feec",
   "metadata": {},
   "outputs": [],
   "source": [
    "def masked_apply(x, mask, layer_0, layer_1):\n",
    "    x = layer_0(x, mask)\n",
    "    x = layer_1(x, mask if mask is not None else 1)\n",
    "    return x, mask is None"
   ]
  },
  {
   "cell_type": "code",
   "execution_count": 4,
   "id": "9c345326-89ae-4efa-9657-545ae3eeb215",
   "metadata": {},
   "outputs": [],
   "source": [
    "from thunder.core.script.frontend import _construct_protograph, acquire_method\n",
    "proto_graph = _construct_protograph(masked_apply)"
   ]
  },
  {
   "cell_type": "code",
   "execution_count": 5,
   "id": "2205c64a-caa8-4913-81ce-a43b10ffb1d1",
   "metadata": {},
   "outputs": [],
   "source": [
    "from thunder.core.script import parse, values\n",
    "\n",
    "provenance = []\n",
    "last = proto_graph.provenance\n",
    "while isinstance(last, tuple):\n",
    "    provenance.append(last)\n",
    "    transform, prior_proto_graph = last\n",
    "    last = prior_proto_graph.provenance\n",
    "assert isinstance(last, values.ParsedSymbolic)\n",
    "provenance.extend((last, last.provenance, last.provenance.provenance))\n",
    "provenance.reverse()\n",
    "\n",
    "disassembled, parsed, parsed_symbolic, *protograph_transforms = provenance\n",
    "assert isinstance(disassembled, parse.Disassembled)\n",
    "assert isinstance(parsed, parse.ParsedFunctional)\n",
    "assert isinstance(parsed_symbolic, values.ParsedSymbolic)"
   ]
  },
  {
   "cell_type": "code",
   "execution_count": 6,
   "id": "b0178f36-4774-483b-8d37-e2271c42f2de",
   "metadata": {},
   "outputs": [
    {
     "name": "stdout",
     "output_type": "stream",
     "text": [
      "<code object masked_apply at 0x7f064f0d8500, file \"/tmp/ipykernel_630313/933819650.py\", line 1> \n",
      "\n",
      "\n",
      "  2           0 LOAD_FAST                2 (layer_0)           ||          0)  LOAD_FAST\n",
      "              2 LOAD_FAST                0 (x)                 ||              LOAD_FAST\n",
      "              4 LOAD_FAST                1 (mask)              ||              LOAD_FAST\n",
      "              6 CALL_FUNCTION            2                     ||              CALL_FUNCTION\n",
      "              8 STORE_FAST               0 (x)                 ||              STORE_FAST\n",
      "                                                               ||              LOAD_FAST\n",
      "  3          10 LOAD_FAST                3 (layer_1)           ||              LOAD_FAST\n",
      "             12 LOAD_FAST                0 (x)                 ||              LOAD_FAST\n",
      "             14 LOAD_FAST                1 (mask)              ||              LOAD_CONST\n",
      "             16 LOAD_CONST               0 (None)              ||              IS_OP\n",
      "             18 IS_OP                    1                     ||              POP_JUMP_IF_FALSE\n",
      "             20 POP_JUMP_IF_FALSE       13 (to 26)             ||          \n",
      "             22 LOAD_FAST                1 (mask)              ||          1)  LOAD_FAST\n",
      "             24 JUMP_FORWARD             1 (to 28)             ||              JUMP_FORWARD\n",
      "        >>   26 LOAD_CONST               1 (1)                 ||          \n",
      "        >>   28 CALL_FUNCTION            2                     ||          2)  LOAD_CONST\n",
      "             30 STORE_FAST               0 (x)                 ||              JUMP_ABSOLUTE\n",
      "                                                               ||          \n",
      "  4          32 LOAD_FAST                0 (x)                 ||          3)  CALL_FUNCTION\n",
      "             34 LOAD_FAST                1 (mask)              ||              STORE_FAST\n",
      "             36 LOAD_CONST               0 (None)              ||              LOAD_FAST\n",
      "             38 IS_OP                    0                     ||              LOAD_FAST\n",
      "             40 BUILD_TUPLE              2                     ||              LOAD_CONST\n",
      "             42 RETURN_VALUE                                   ||              IS_OP\n",
      "                                                               ||              BUILD_TUPLE\n",
      "                                                               ||              RETURN_VALUE\n",
      "                                                               ||          \n"
     ]
    }
   ],
   "source": [
    "import dis\n",
    "import io\n",
    "import itertools\n",
    "\n",
    "print(disassembled.code, \"\\n\\n\")\n",
    "dis.dis(disassembled.code, file=(buffer := io.StringIO()))\n",
    "buffer.seek(0)\n",
    "dis_lines = buffer.read().splitlines(False)\n",
    "\n",
    "block_lines = []\n",
    "for idx, block in enumerate(disassembled.raw.values()):\n",
    "    block_lines.extend(f\"{'' if idy else f'{idx})':<4}{instruction.opname}\" for idy, instruction in enumerate(block))\n",
    "    block_lines.append(\"\")\n",
    "\n",
    "pad = max(len(l) for l in dis_lines)\n",
    "for dis_line, block_line in itertools.zip_longest(dis_lines, block_lines, fillvalue=\"\"):\n",
    "    print(f\"{dis_line:<{pad + 10}} ||{' ' * 10}{block_line}\")"
   ]
  },
  {
   "cell_type": "code",
   "execution_count": 7,
   "id": "dec0f942-0915-4cf5-a79a-9e37fd2f4e6f",
   "metadata": {},
   "outputs": [
    {
     "name": "stdout",
     "output_type": "stream",
     "text": [
      "Block 0:  [] => [layer_1, v0]\n",
      "  LOAD[layer_0, x, mask]\n",
      "  CALL_FUNCTION . . . . . . . . . . . . . . (layer_0, x, mask) -> v0\n",
      "  STORE[x]\n",
      "  LOAD[layer_1, x, mask, None: CONST]\n",
      "  IS_OP . . . . . . . . . . . . . . . . . . (mask, None) -> v1\n",
      "  POP_JUMP_IF_FALSE . . . . . . . . . . . . (v1) -> \n",
      "      -> 1, 2(Jump)\n",
      "\n",
      "Block 1:  [⓵ , ⓶ ] => [⓵ , ⓶ , mask]\n",
      "  LOAD[mask]\n",
      "  JUMP_FORWARD\n",
      "      -> 3(Jump)\n",
      "\n",
      "Block 2:  [⓵ , ⓶ ] => [⓵ , ⓶ , 1]\n",
      "  LOAD[1: CONST]\n",
      "  JUMP_ABSOLUTE*\n",
      "      -> 3(Jump)\n",
      "\n",
      "Block 3:  [⓵ , ⓶ , ⓷ ] => []\n",
      "  CALL_FUNCTION . . . . . . . . . . . . . . (⓵ , ⓶ , ⓷ ) -> v0\n",
      "  STORE[x]\n",
      "  LOAD[x, mask, None: CONST]\n",
      "  IS_OP . . . . . . . . . . . . . . . . . . (mask, None) -> v1\n",
      "  BUILD_TUPLE . . . . . . . . . . . . . . . (v0, v1) -> v2\n",
      "  RETURN_VALUE . . . . . . . . . . . . . .  (v2) -> \n",
      "\n"
     ]
    }
   ],
   "source": [
    "print(parsed.summary)"
   ]
  },
  {
   "cell_type": "code",
   "execution_count": 8,
   "id": "3a1cdbfe-996f-48c2-a5d4-b05389d2316d",
   "metadata": {},
   "outputs": [
    {
     "name": "stdout",
     "output_type": "stream",
     "text": [
      "CALL_FUNCTION              (layer_0(LOCAL), x(LOCAL), mask(LOCAL)) -> (IntermediateValue(at 0x7f064f0c26b0),)\n",
      "IS_OP                      (mask(LOCAL), None(CONST)) -> (IntermediateValue(at 0x7f064f0c3070),)\n",
      "POP_JUMP_IF_FALSE          (OutputRef(IS_OP, idx=0)) -> ()\n",
      "\n",
      "JUMP_FORWARD               () -> ()\n",
      "\n",
      "JUMP_ABSOLUTE              () -> ()\n",
      "\n",
      "CALL_FUNCTION              (0(STACK), 1(STACK), 2(STACK)) -> (IntermediateValue(at 0x7f064f0f0040),)\n",
      "IS_OP                      (mask(LOCAL), None(CONST)) -> (IntermediateValue(at 0x7f064f0f0250),)\n",
      "BUILD_TUPLE                (OutputRef(CALL_FUNCTION, idx=0), OutputRef(IS_OP, idx=0)) -> (IntermediateValue(at 0x7f064f0f0460),)\n",
      "RETURN_VALUE               (OutputRef(BUILD_TUPLE, idx=0)) -> ()\n",
      "\n"
     ]
    }
   ],
   "source": [
    "def pretty_repr(x) -> str:\n",
    "    if isinstance(x, parse.VariableKey):\n",
    "        return f\"{x.identifier}({x.scope.name})\"\n",
    "    if isinstance(x, values.OutputRef):\n",
    "        return f\"OutputRef({x.instruction.opname}, idx={x.idx})\"\n",
    "    return repr(x)\n",
    "\n",
    "for block, begin, end in parsed_symbolic.blocks:\n",
    "    # At this point `begin` isn't very interesting as it's all just placeholders.\n",
    "    for instruction, symbolic in block.items():\n",
    "        \n",
    "        inputs = \", \".join(pretty_repr(i) for i in symbolic.inputs.ordered)\n",
    "        print(f\"{instruction.opname:<25}  ({inputs}) -> {symbolic.outputs}\")\n",
    "    print()"
   ]
  },
  {
   "cell_type": "code",
   "execution_count": 9,
   "id": "8daca4b6-31b3-4d8e-8be2-9744b44d8f4f",
   "metadata": {},
   "outputs": [
    {
     "name": "stdout",
     "output_type": "stream",
     "text": [
      "Unlink\n",
      "MarkTuples\n",
      "AddTransitive\n",
      "Connect\n",
      "\n",
      "================================================================================\n",
      " ProtoBlock: 0x7f064f0f1cf0\n",
      "  CALL_FUNCTION\n",
      "  IS_OP\n",
      "  POP_JUMP_IF_FALSE\n",
      "\n",
      "ProtoBlock: 0x7f064ef1e560\n",
      "  JUMP_FORWARD\n",
      "\n",
      "ProtoBlock: 0x7f064ef81b10\n",
      "  JUMP_ABSOLUTE\n",
      "\n",
      "ProtoBlock: 0x7f064ef9cfd0\n",
      "  CALL_FUNCTION\n",
      "  IS_OP\n",
      "  BUILD_TUPLE\n",
      "  RETURN_VALUE\n"
     ]
    }
   ],
   "source": [
    "for transform, _ in protograph_transforms:\n",
    "    print(transform.__name__)\n",
    "\n",
    "print(f\"\\n{'=' * 80}\\n\", proto_graph)"
   ]
  },
  {
   "cell_type": "code",
   "execution_count": 10,
   "id": "5c56fbcf-13db-4749-940b-ecbb0dfd0af5",
   "metadata": {},
   "outputs": [
    {
     "name": "stdout",
     "output_type": "stream",
     "text": [
      "Graph of\n",
      "  Block (reached from [None])\n",
      "    CALL_FUNCTION([<thunder.core.script.graph.PhiValue object at 0x7f064f0c1b70 PhiValue 0x7f064f0c1b70 ()>, <thunder.core.script.graph.PhiValue object at 0x7f064efc0310 PhiValue 0x7f064efc0310 ()>, <thunder.core.script.graph.PhiValue object at 0x7f064efc0280 PhiValue 0x7f064efc0280 ()>])\n",
      "    IS_OP 1 (1)\n",
      "    POP_JUMP_IF_FALSE 13 (26)\n",
      "  Block (reached from [<thunder.core.script.graph.Node object at 0x7f069f46da80 POP_JUMP_IF_FALSE 13 (26)>])\n",
      "    JUMP_FORWARD 1 (28)\n",
      "  Block (reached from [<thunder.core.script.graph.Node object at 0x7f069f46da80 POP_JUMP_IF_FALSE 13 (26)>])\n",
      "    JUMP_ABSOLUTE 14 (None)\n",
      "  Block (reached from [<thunder.core.script.graph.Node object at 0x7f064ef9d120 JUMP_FORWARD 1 (28)>, <thunder.core.script.graph.Node object at 0x7f064ef9d480 JUMP_ABSOLUTE 14 (None)>])\n",
      "    CALL_FUNCTION([<thunder.core.script.graph.PhiValue object at 0x7f064efc01c0 PhiValue 0x7f064efc01c0 ()>, <thunder.core.script.graph.PhiValue object at 0x7f064efc0220 PhiValue 0x7f064efc0220 ()>, <thunder.core.script.graph.PhiValue object at 0x7f064efc0250 PhiValue 0x7f064efc0250 ()>])\n",
      "    IS_OP 0 (0)\n",
      "    BUILD_TUPLE 2 (2)\n",
      "    RETURN_VALUE None (None)\n"
     ]
    }
   ],
   "source": [
    "g = acquire_method(masked_apply)\n",
    "print(g)"
   ]
  },
  {
   "cell_type": "code",
   "execution_count": null,
   "id": "22ef39c9-04aa-40ff-acc2-1387a3f372f4",
   "metadata": {},
   "outputs": [],
   "source": []
  }
 ],
 "metadata": {
  "kernelspec": {
   "display_name": "Python 3",
   "language": "python",
   "name": "python3"
  },
  "language_info": {
   "codemirror_mode": {
    "name": "ipython",
    "version": 3
   },
   "file_extension": ".py",
   "mimetype": "text/x-python",
   "name": "python",
   "nbconvert_exporter": "python",
   "pygments_lexer": "ipython3",
   "version": "3.10.11"
  }
 },
 "nbformat": 4,
 "nbformat_minor": 5
}
