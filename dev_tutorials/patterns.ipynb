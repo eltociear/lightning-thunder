{
 "cells": [
  {
   "cell_type": "code",
   "execution_count": null,
   "metadata": {},
   "outputs": [],
   "source": [
    "# This developer tutorial discusses patterns -- sequences of operations that can be matched and replaced with traceable functions. \n",
    "# It's a work-in-progress, and it currently only discusses how patterns can be constructed and how they're matched,\n",
    "#   along with some related utilities."
   ]
  },
  {
   "cell_type": "code",
   "execution_count": 1,
   "metadata": {},
   "outputs": [],
   "source": [
    "# Imports the modules, classes, and functions we'll need for this tutorial\n",
    "import torch\n",
    "\n",
    "import thunder\n",
    "from thunder.core.patterns import Pattern, bind_names, numbered_ancestors\n",
    "from thunder.core.proxies import TensorProxy\n",
    "from thunder.core.symbol import BoundSymbol"
   ]
  },
  {
   "cell_type": "code",
   "execution_count": 3,
   "metadata": {},
   "outputs": [],
   "source": [
    "# To match a pattern, start by creating a Pattern object\n",
    "p = Pattern()"
   ]
  },
  {
   "cell_type": "code",
   "execution_count": 4,
   "metadata": {},
   "outputs": [
    {
     "name": "stdout",
     "output_type": "stream",
     "text": [
      "[[(2, t0 = ltorch.add(a, b, alpha=None)  # t0: \"cpu f32[2, 2]\"\n",
      "  # t0 = prims.add(a, b)  # t0: \"cpu f32[2, 2]\")]]\n"
     ]
    }
   ],
   "source": [
    "# Then define one or more \"matchers\" that determine if a BoundSymbol is a \"match\", and add them to the \n",
    "#   pattern using its match() method\n",
    "\n",
    "# The matcher signature not only accepts a BoundSymbol to review, but also a list of BoundSymbols that were\n",
    "#   already matched by the pattern, and a match_ctx dictionary that contains whatever state you like from previous matches\n",
    "# The matcher returns True if the BoundSymbol should be matched, and False otherwise. When returning True it should return\n",
    "#   a dict that will be used to update the match_ctx for future matches. This will be clearer in a moment with an example.\n",
    "# The following matcher is very permissive, and it matches any add operation.\n",
    "def add_matcher(bsym: BoundSymbol, *, previously_matched: list[BoundSymbol], match_ctx: dict) -> tuple[bool, None | dict]:\n",
    "        if bsym.sym.name == 'add':\n",
    "            return True, {}\n",
    "        \n",
    "        return False, None\n",
    "\n",
    "a = torch.randn((2, 2))\n",
    "b = torch.randn((2, 2))\n",
    "\n",
    "# An example program that performs an addition and a subtraction\n",
    "def foo(a, b):\n",
    "    c = a + b\n",
    "    d = a - b\n",
    "    return c, d\n",
    "trc = thunder.trace()(foo, a, b)\n",
    "\n",
    "# The matcher is told to match any addition\n",
    "p.match(add_matcher)\n",
    "\n",
    "# Calling the Pattern object on a trace returns a list of matches. \n",
    "# Each match is a list of (int, BoundSymbol) tuples, where int is the \n",
    "#   position of the BoundSymbol in the trace.\n",
    "matches = p(trc)\n",
    "\n",
    "# In this case there is just one match -- the first addition\n",
    "print(matches)"
   ]
  },
  {
   "cell_type": "code",
   "execution_count": 5,
   "metadata": {},
   "outputs": [
    {
     "name": "stdout",
     "output_type": "stream",
     "text": [
      "[[(2, t0 = ltorch.add(a, b, alpha=None)  # t0: \"cpu f32[2, 2]\"\n",
      "  # t0 = prims.add(a, b)  # t0: \"cpu f32[2, 2]\")], [(3, t1 = ltorch.add(a, b, alpha=None)  # t1: \"cpu f32[2, 2]\"\n",
      "  # t1 = prims.add(a, b)  # t1: \"cpu f32[2, 2]\")]]\n"
     ]
    }
   ],
   "source": [
    "def foo(a, b):\n",
    "    c = a + b\n",
    "    d = a + b\n",
    "    return c, d\n",
    "trc = thunder.trace()(foo, a, b)\n",
    "\n",
    "# When the program is changed to include two additions, both additions\n",
    "#   are matched and two matches are created.\n",
    "matches = p(trc)\n",
    "print(matches)"
   ]
  },
  {
   "cell_type": "code",
   "execution_count": 6,
   "metadata": {},
   "outputs": [
    {
     "name": "stdout",
     "output_type": "stream",
     "text": [
      "[[(2, t0 = ltorch.add(a, b, alpha=None)  # t0: \"cpu f32[2, 2]\"\n",
      "  # t0 = prims.add(a, b)  # t0: \"cpu f32[2, 2]\"), (3, t1 = ltorch.add(a, b, alpha=None)  # t1: \"cpu f32[2, 2]\"\n",
      "  # t1 = prims.add(a, b)  # t1: \"cpu f32[2, 2]\")]]\n"
     ]
    }
   ],
   "source": [
    "# In addition to matching a single operation, a pattern can match any number of sequential operations --\n",
    "#   that is, operations that are immediately adjacent to each other. We do this by providing\n",
    "#   max_times and (optionally) min_times arguments to match()\n",
    "# Negative max_times values are interpreted as matching the pattern any number of times\n",
    "# Matching multiple operations occurs greedily and before any additional matching can occur\n",
    "\n",
    "p = Pattern()\n",
    "p.match(add_matcher, min_times=1, max_times=-1)\n",
    "\n",
    "# The pattern now matches once, and the single match contains both additions\n",
    "matches = p(trc)\n",
    "print(matches)"
   ]
  },
  {
   "cell_type": "code",
   "execution_count": 7,
   "metadata": {},
   "outputs": [
    {
     "name": "stdout",
     "output_type": "stream",
     "text": [
      "[[(2, t0 = ltorch.add(a, b, alpha=None)  # t0: \"cpu f32[2, 2]\"\n",
      "  # t0 = prims.add(a, b)  # t0: \"cpu f32[2, 2]\"), (3, t1 = ltorch.sub(a, b, alpha=None)  # t1: \"cpu f32[2, 2]\"\n",
      "  # t1 = prims.sub(a, b)  # t1: \"cpu f32[2, 2]\")]]\n"
     ]
    }
   ],
   "source": [
    "# Multiple operations can also be matched by calling match() multiple times. Each \n",
    "#   match() attempts to evaluate itself in the order it's called.\n",
    "\n",
    "def foo(a, b):\n",
    "    c = a + b\n",
    "    d = a - b\n",
    "    return c, d\n",
    "trc = thunder.trace()(foo, a, b)\n",
    "\n",
    "# Let's match an addition followed by a subtraction on the same inputs. This will also show how to update the match_ctx dict\n",
    "#   and let us use the bind_names() utility.\n",
    "def add_matcher(bsym: BoundSymbol, *, previously_matched: list[BoundSymbol], match_ctx: dict) -> tuple[bool, None | dict]:\n",
    "        if bsym.sym.name == 'add':\n",
    "            # bind_names() produces an object with properties corresponding to the function's (Symbol's) parameters, when\n",
    "            #   accessed they return their corresponding arguments\n",
    "            bn = bind_names(bsym)\n",
    "            # Stores the inputs in the context\n",
    "            return True, {'a': bn.a, 'b': bn.b}\n",
    "        \n",
    "        return False, None\n",
    "\n",
    "def sub_matcher(bsym: BoundSymbol, *, previously_matched: list[BoundSymbol], match_ctx: dict) -> tuple[bool, None | dict]:\n",
    "        if bsym.sym.name == 'sub':\n",
    "            bn = bind_names(bsym)\n",
    "\n",
    "            # Acquires the previously stored values from the match_ctx\n",
    "            a = match_ctx['a']\n",
    "            b = match_ctx['b']\n",
    "\n",
    "            # Matches the sub only if the arguments are the same as the addition's, and in the same order\n",
    "            if a is bn.a and b is bn.b:\n",
    "                return True, {}\n",
    "        \n",
    "        return False, None\n",
    "\n",
    "p = Pattern()\n",
    "p.match(add_matcher)\n",
    "p.match(sub_matcher)\n",
    "\n",
    "# Matches the addition and the subtraction\n",
    "matches = p(trc)\n",
    "print(matches)"
   ]
  },
  {
   "cell_type": "code",
   "execution_count": null,
   "metadata": {},
   "outputs": [],
   "source": [
    "# Another version of the above example that uses the previously_matched argument to decide whether to match\n",
    "#   the subtraction\n",
    "\n",
    "def foo(a, b):\n",
    "    c = a + b\n",
    "    d = a - b\n",
    "    return c, d\n",
    "trc = thunder.trace()(foo, a, b)\n",
    "\n",
    "def add_matcher(bsym: BoundSymbol, *, previously_matched: list[BoundSymbol], match_ctx: dict) -> tuple[bool, None | dict]:\n",
    "        if bsym.sym.name == 'add':\n",
    "            # Doesn't update the context -- the context is just scratch space for you\n",
    "            return True, {}\n",
    "        \n",
    "        return False, None\n",
    "\n",
    "def sub_matcher(bsym: BoundSymbol, *, previously_matched: list[BoundSymbol], match_ctx: dict) -> tuple[bool, None | dict]:\n",
    "        if bsym.sym.name == 'sub':\n",
    "            my_bn = bind_names(bsym)\n",
    "\n",
    "            add_bsym = previously_matched\n",
    "            add_bn = bind_names(add_bsym)\n",
    "\n",
    "            # Matches the sub only if the arguments are the same as the addition's, and in the same order\n",
    "            if add_bn.a is my_bn.a and add_bn.b is my_bn.b:\n",
    "                return True, {}\n",
    "        \n",
    "        return False, None\n",
    "\n",
    "p = Pattern()\n",
    "p.match(add_matcher)\n",
    "p.match(sub_matcher)\n",
    "\n",
    "# Matches the addition and the subtraction\n",
    "matches = p(trc)\n",
    "print(matches)"
   ]
  },
  {
   "cell_type": "code",
   "execution_count": 8,
   "metadata": {},
   "outputs": [
    {
     "name": "stdout",
     "output_type": "stream",
     "text": [
      "[[(2, t0 = ltorch.add(a, b, alpha=None)  # t0: \"cpu f32[2, 2]\"\n",
      "  # t0 = prims.add(a, b)  # t0: \"cpu f32[2, 2]\"), (4, t2 = ltorch.sub(a, b, alpha=None)  # t2: \"cpu f32[2, 2]\"\n",
      "  # t2 = prims.sub(a, b)  # t2: \"cpu f32[2, 2]\")]]\n"
     ]
    }
   ],
   "source": [
    "# Operations in a pattern don't have to be next to each other, but they do have to within a \"window\" of \n",
    "#   the previous operation. Currently the window is 5 operations. Each operation also has to be \n",
    "#   \"reorderable\" to be \"next to\" operations that were already matched. This isn't always\n",
    "#   possible. If an operation consumes an input that is not directly from a previously matched symbol, but\n",
    "#   is derived from the output of a previously matched symbol, then it cannot be reordered adjacent to the \n",
    "#   other operations in the pattern.\n",
    "# Let's see how this works with two examples.\n",
    "\n",
    "# An operation between the first addition and second subtraction doesn't stop the previous pattern\n",
    "#   from matching as expected, because the operation producing d can be reordered to be \n",
    "#   immediately after the operation producing c\n",
    "def foo(a, b):\n",
    "    c = a + b\n",
    "    x = a + 2\n",
    "    d = a - b\n",
    "    return c, d, x\n",
    "trc = thunder.trace()(foo, a, b)\n",
    "\n",
    "# The match is the same as when x isn't computed\n",
    "matches = p(trc)\n",
    "print(matches)"
   ]
  },
  {
   "cell_type": "code",
   "execution_count": 9,
   "metadata": {},
   "outputs": [
    {
     "name": "stdout",
     "output_type": "stream",
     "text": [
      "[]\n"
     ]
    }
   ],
   "source": [
    "# Too many intervening operations pushes the subtraction out of pattern matching \"window\" and prevents\n",
    "#   the match\n",
    "# In the future we may expose an option to set the window larger -- share your thoughts by filing an issue!\n",
    "def foo(a, b):\n",
    "    c = a + b\n",
    "    x = a + 2\n",
    "    x = x + 2\n",
    "    x = x + 2\n",
    "    x = x + 2\n",
    "    x = x + 2\n",
    "    x = x + 2\n",
    "    x = x + 2\n",
    "    x = x + 2\n",
    "    d = a - b\n",
    "    return c, d, x\n",
    "trc = thunder.trace()(foo, a, b)\n",
    "\n",
    "# No matches because the computation of c and the computation of d are separated by too many operations\n",
    "matches = p(trc)\n",
    "print(matches)"
   ]
  },
  {
   "cell_type": "code",
   "execution_count": 11,
   "metadata": {},
   "outputs": [
    {
     "name": "stdout",
     "output_type": "stream",
     "text": [
      "[]\n"
     ]
    }
   ],
   "source": [
    "# The computation of e depends on the computation of d and the computation of c\n",
    "def foo(a, b):\n",
    "      c = a + b\n",
    "      d = c - 5\n",
    "      e = c + d\n",
    "      return e\n",
    "trc = thunder.trace()(foo, a, b)\n",
    "\n",
    "def add_matcher(bsym: BoundSymbol, *, previously_matched: list[BoundSymbol], match_ctx: dict) -> tuple[bool, None | dict]:\n",
    "        if bsym.sym.name == 'add':\n",
    "            return True, {}\n",
    "        \n",
    "        return False, None\n",
    "\n",
    "p = Pattern()\n",
    "p.match(add_matcher)\n",
    "p.match(add_matcher)\n",
    "\n",
    "# Attempting to match two additions fails, because the computation of e cannot be reordered next to the computation of c\n",
    "matches = p(trc)\n",
    "print(matches)"
   ]
  },
  {
   "cell_type": "code",
   "execution_count": 12,
   "metadata": {},
   "outputs": [
    {
     "name": "stdout",
     "output_type": "stream",
     "text": [
      "[[(2, t0 = ltorch.add(a, b, alpha=None)  # t0: \"cpu f32[2, 2]\"\n",
      "  # t0 = prims.add(a, b)  # t0: \"cpu f32[2, 2]\"), (3, t1 = ltorch.sub(t0, 5, alpha=None)  # t1: \"cpu f32[2, 2]\"\n",
      "  # _ = prims.convert_element_type(5, float)\n",
      "  # t1 = prims.sub(t0, 5.0)  # t1: \"cpu f32[2, 2]\"), (4, t2 = ltorch.add(t0, t1, alpha=None)  # t2: \"cpu f32[2, 2]\"\n",
      "  # t2 = prims.add(t0, t1)  # t2: \"cpu f32[2, 2]\")]]\n"
     ]
    }
   ],
   "source": [
    "# Including the subtraction in the pattern allows it to be matched\n",
    "def sub_matcher(bsym: BoundSymbol, *, previously_matched: list[BoundSymbol], match_ctx: dict) -> tuple[bool, None | dict]:\n",
    "        if bsym.sym.name == 'sub':\n",
    "            return True, {}\n",
    "        \n",
    "        return False, None\n",
    "\n",
    "p = Pattern()\n",
    "p.match(add_matcher)\n",
    "p.match(sub_matcher)\n",
    "p.match(add_matcher)\n",
    "\n",
    "matches = p(trc)\n",
    "print(matches)\n"
   ]
  },
  {
   "cell_type": "code",
   "execution_count": null,
   "metadata": {},
   "outputs": [],
   "source": []
  },
  {
   "cell_type": "code",
   "execution_count": null,
   "metadata": {},
   "outputs": [],
   "source": []
  }
 ],
 "metadata": {
  "kernelspec": {
   "display_name": "3109",
   "language": "python",
   "name": "python3"
  },
  "language_info": {
   "codemirror_mode": {
    "name": "ipython",
    "version": 3
   },
   "file_extension": ".py",
   "mimetype": "text/x-python",
   "name": "python",
   "nbconvert_exporter": "python",
   "pygments_lexer": "ipython3",
   "version": "3.10.9"
  }
 },
 "nbformat": 4,
 "nbformat_minor": 2
}
