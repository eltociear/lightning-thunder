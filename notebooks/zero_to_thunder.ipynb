{
 "cells": [
  {
   "cell_type": "markdown",
   "id": "1638964c",
   "metadata": {},
   "source": [
    "# Zero to thunder"
   ]
  },
  {
   "cell_type": "code",
   "execution_count": 5,
   "id": "e8953e57",
   "metadata": {},
   "outputs": [],
   "source": [
    "import sys\n",
    "sys.path.insert(0, '..')\n",
    "\n",
    "import torch, thunder\n",
    "\n",
    "from thunder.tests.lit_gpt_model import Config, Block"
   ]
  },
  {
   "cell_type": "code",
   "execution_count": 37,
   "id": "0a62c587",
   "metadata": {},
   "outputs": [],
   "source": [
    "from lit_gpt.model import Config, LLaMAMLP"
   ]
  },
  {
   "cell_type": "code",
   "execution_count": 51,
   "id": "d6ca6328",
   "metadata": {},
   "outputs": [],
   "source": [
    "cfg = Config.from_name('Llama-2-7b-hf')\n",
    "with torch.device(\"cuda\"):\n",
    "    m = LLaMAMLP(cfg)\n",
    "\n"
   ]
  },
  {
   "cell_type": "code",
   "execution_count": 52,
   "id": "3a159966",
   "metadata": {},
   "outputs": [
    {
     "data": {
      "text/plain": [
       "LLaMAMLP(\n",
       "  (fc_1): Linear(in_features=4096, out_features=11008, bias=False)\n",
       "  (fc_2): Linear(in_features=4096, out_features=11008, bias=False)\n",
       "  (proj): Linear(in_features=11008, out_features=4096, bias=False)\n",
       ")"
      ]
     },
     "execution_count": 52,
     "metadata": {},
     "output_type": "execute_result"
    }
   ],
   "source": [
    "m"
   ]
  },
  {
   "cell_type": "code",
   "execution_count": 53,
   "id": "67ca2d37",
   "metadata": {},
   "outputs": [],
   "source": [
    "tm = thunder.jit(m)"
   ]
  },
  {
   "cell_type": "code",
   "execution_count": 54,
   "id": "964e2689",
   "metadata": {},
   "outputs": [
    {
     "data": {
      "text/plain": [
       "ThunderModule(\n",
       "  (_model): LLaMAMLP(\n",
       "    (fc_1): Linear(in_features=4096, out_features=11008, bias=False)\n",
       "    (fc_2): Linear(in_features=4096, out_features=11008, bias=False)\n",
       "    (proj): Linear(in_features=11008, out_features=4096, bias=False)\n",
       "  )\n",
       ")"
      ]
     },
     "execution_count": 54,
     "metadata": {},
     "output_type": "execute_result"
    }
   ],
   "source": [
    "tm"
   ]
  },
  {
   "cell_type": "code",
   "execution_count": 60,
   "id": "7f4de1b3",
   "metadata": {},
   "outputs": [
    {
     "data": {
      "text/plain": [
       "tensor(1.4901e-07, device='cuda:0', grad_fn=<MaxBackward1>)"
      ]
     },
     "execution_count": 60,
     "metadata": {},
     "output_type": "execute_result"
    }
   ],
   "source": [
    "x = torch.randn(2, 2048, 4096, device=\"cuda\")\n",
    "(tm(x) - m(x)).abs().max()\n"
   ]
  },
  {
   "cell_type": "code",
   "execution_count": 61,
   "id": "a6f4b77c",
   "metadata": {},
   "outputs": [
    {
     "data": {
      "text/plain": [
       "[# Constructed by Augmented forward pass\n",
       " import thunder\n",
       " import thunder.core.prims as prims\n",
       " import torch\n",
       " from thunder.executors.torchex import no_autocast\n",
       " \n",
       " @torch.no_grad()\n",
       " @no_autocast()\n",
       " def augmented_forward_fn(input, t_fc_1_weight, t_fc_2_weight, t_proj_weight):\n",
       "   # input: \"cuda:0 f32[2, 2048, 4096]\" \n",
       "   # t_fc_1_weight: \"cuda:0 f32[11008, 4096]\" \n",
       "   # t_fc_2_weight: \"cuda:0 f32[11008, 4096]\" \n",
       "   # t_proj_weight: \"cuda:0 f32[4096, 11008]\" \n",
       "   t0 = prims.linear(input, t_fc_1_weight, None)  # t0: \"cuda:0 f32[2, 2048, 11008]\"\n",
       "   t1 = prims.linear(input, t_fc_2_weight, None)  # t1: \"cuda:0 f32[2, 2048, 11008]\"\n",
       "   t2 = prims.neg(t0)  # t2: \"cuda:0 f32[2, 2048, 11008]\"\n",
       "   t3 = prims.exp(t2)  # t3: \"cuda:0 f32[2, 2048, 11008]\"\n",
       "   t4 = prims.add(1.0, t3)  # t4: \"cuda:0 f32[2, 2048, 11008]\"\n",
       "   t5 = prims.reciprocal(t4)  # t5: \"cuda:0 f32[2, 2048, 11008]\"\n",
       "   t6 = prims.mul(t0, t5)  # t6: \"cuda:0 f32[2, 2048, 11008]\"\n",
       "   t7 = prims.mul(t6, t1)  # t7: \"cuda:0 f32[2, 2048, 11008]\"\n",
       "   t8 = prims.linear(t7, t_proj_weight, None)  # t8: \"cuda:0 f32[2, 2048, 4096]\"\n",
       "   return {'output': t8, 'flat_args': [input, t_fc_1_weight, t_fc_2_weight, t_proj_weight], 'flat_output': (t8,)}, ((input, t_fc_1_weight, t_fc_2_weight, t0, t3, t5, t6, t1, t7, t_proj_weight), ()),\n",
       " # Constructed by Transform for execution (took 2 milliseconds)\n",
       " import torch\n",
       " import torch.nn.functional\n",
       " from thunder.executors.torchex import no_autocast\n",
       " \n",
       " @torch.no_grad()\n",
       " @no_autocast()\n",
       " def augmented_forward_fn(input, t_fc_1_weight, t_fc_2_weight, t_proj_weight):\n",
       "   # input: \"cuda:0 f32[2, 2048, 4096]\" \n",
       "   # t_fc_1_weight: \"cuda:0 f32[11008, 4096]\" \n",
       "   # t_fc_2_weight: \"cuda:0 f32[11008, 4096]\" \n",
       "   # t_proj_weight: \"cuda:0 f32[4096, 11008]\" \n",
       "   t0 = torch.nn.functional.linear(input, t_fc_1_weight, None)  # t0: \"cuda:0 f32[2, 2048, 11008]\"\n",
       "     # t0 = ltorch.linear(input, t_fc_1_weight, None)  # t0: \"cuda:0 f32[2, 2048, 11008]\"\n",
       "       # t0 = prims.linear(input, t_fc_1_weight, None)  # t0: \"cuda:0 f32[2, 2048, 11008]\"\n",
       "   t1 = torch.nn.functional.linear(input, t_fc_2_weight, None)  # t1: \"cuda:0 f32[2, 2048, 11008]\"\n",
       "     # t1 = ltorch.linear(input, t_fc_2_weight, None)  # t1: \"cuda:0 f32[2, 2048, 11008]\"\n",
       "       # t1 = prims.linear(input, t_fc_2_weight, None)  # t1: \"cuda:0 f32[2, 2048, 11008]\"\n",
       "   [t3, t5, t6, t7] = nvFusion0(t0, t1)\n",
       "     # t2 = prims.neg(t0)  # t2: \"cuda:0 f32[2, 2048, 11008]\"\n",
       "     # t3 = prims.exp(t2)  # t3: \"cuda:0 f32[2, 2048, 11008]\"\n",
       "     # t4 = prims.add(1.0, t3)  # t4: \"cuda:0 f32[2, 2048, 11008]\"\n",
       "     # t5 = prims.reciprocal(t4)  # t5: \"cuda:0 f32[2, 2048, 11008]\"\n",
       "     # t6 = prims.mul(t0, t5)  # t6: \"cuda:0 f32[2, 2048, 11008]\"\n",
       "     # t7 = prims.mul(t6, t1)  # t7: \"cuda:0 f32[2, 2048, 11008]\"\n",
       "   t8 = torch.nn.functional.linear(t7, t_proj_weight, None)  # t8: \"cuda:0 f32[2, 2048, 4096]\"\n",
       "     # t8 = ltorch.linear(t7, t_proj_weight, None)  # t8: \"cuda:0 f32[2, 2048, 4096]\"\n",
       "       # t8 = prims.linear(t7, t_proj_weight, None)  # t8: \"cuda:0 f32[2, 2048, 4096]\"\n",
       "   return {'output': t8, 'flat_args': [input, t_fc_1_weight, t_fc_2_weight, t_proj_weight], 'flat_output': (t8,)}, ((input, t_fc_1_weight, t_fc_2_weight, t0, t3, t5, t6, t1, t7, t_proj_weight), ()),\n",
       " # Constructed by Update Call Context (took 0 milliseconds)\n",
       " import torch\n",
       " import torch.nn.functional\n",
       " from thunder.executors.torchex import no_autocast\n",
       " \n",
       " @torch.no_grad()\n",
       " @no_autocast()\n",
       " def augmented_forward_fn(input, t_fc_1_weight, t_fc_2_weight, t_proj_weight):\n",
       "   # input: \"cuda:0 f32[2, 2048, 4096]\" \n",
       "   # t_fc_1_weight: \"cuda:0 f32[11008, 4096]\" \n",
       "   # t_fc_2_weight: \"cuda:0 f32[11008, 4096]\" \n",
       "   # t_proj_weight: \"cuda:0 f32[4096, 11008]\" \n",
       "   t0 = torch.nn.functional.linear(input, t_fc_1_weight, None)  # t0: \"cuda:0 f32[2, 2048, 11008]\"\n",
       "     # t0 = ltorch.linear(input, t_fc_1_weight, None)  # t0: \"cuda:0 f32[2, 2048, 11008]\"\n",
       "       # t0 = prims.linear(input, t_fc_1_weight, None)  # t0: \"cuda:0 f32[2, 2048, 11008]\"\n",
       "   t1 = torch.nn.functional.linear(input, t_fc_2_weight, None)  # t1: \"cuda:0 f32[2, 2048, 11008]\"\n",
       "     # t1 = ltorch.linear(input, t_fc_2_weight, None)  # t1: \"cuda:0 f32[2, 2048, 11008]\"\n",
       "       # t1 = prims.linear(input, t_fc_2_weight, None)  # t1: \"cuda:0 f32[2, 2048, 11008]\"\n",
       "   [t7] = nvFusion0(t0, t1)\n",
       "     # t2 = prims.neg(t0)  # t2: \"cuda:0 f32[2, 2048, 11008]\"\n",
       "     # t3 = prims.exp(t2)  # t3: \"cuda:0 f32[2, 2048, 11008]\"\n",
       "     # t4 = prims.add(1.0, t3)  # t4: \"cuda:0 f32[2, 2048, 11008]\"\n",
       "     # t5 = prims.reciprocal(t4)  # t5: \"cuda:0 f32[2, 2048, 11008]\"\n",
       "     # t6 = prims.mul(t0, t5)  # t6: \"cuda:0 f32[2, 2048, 11008]\"\n",
       "     # t7 = prims.mul(t6, t1)  # t7: \"cuda:0 f32[2, 2048, 11008]\"\n",
       "   t8 = torch.nn.functional.linear(t7, t_proj_weight, None)  # t8: \"cuda:0 f32[2, 2048, 4096]\"\n",
       "     # t8 = ltorch.linear(t7, t_proj_weight, None)  # t8: \"cuda:0 f32[2, 2048, 4096]\"\n",
       "       # t8 = prims.linear(t7, t_proj_weight, None)  # t8: \"cuda:0 f32[2, 2048, 4096]\"\n",
       "   return {'output': t8, 'flat_args': [input, t_fc_1_weight, t_fc_2_weight, t_proj_weight], 'flat_output': (t8,)}, ((input, t0, t1, t7, t_proj_weight), ()),\n",
       " # Constructed by Delete Last Used (took 0 milliseconds)\n",
       " import torch\n",
       " import torch.nn.functional\n",
       " from thunder.executors.torchex import no_autocast\n",
       " \n",
       " @torch.no_grad()\n",
       " @no_autocast()\n",
       " def augmented_forward_fn(input, t_fc_1_weight, t_fc_2_weight, t_proj_weight):\n",
       "   # input: \"cuda:0 f32[2, 2048, 4096]\" \n",
       "   # t_fc_1_weight: \"cuda:0 f32[11008, 4096]\" \n",
       "   # t_fc_2_weight: \"cuda:0 f32[11008, 4096]\" \n",
       "   # t_proj_weight: \"cuda:0 f32[4096, 11008]\" \n",
       "   t0 = torch.nn.functional.linear(input, t_fc_1_weight, None)  # t0: \"cuda:0 f32[2, 2048, 11008]\"\n",
       "     # t0 = ltorch.linear(input, t_fc_1_weight, None)  # t0: \"cuda:0 f32[2, 2048, 11008]\"\n",
       "       # t0 = prims.linear(input, t_fc_1_weight, None)  # t0: \"cuda:0 f32[2, 2048, 11008]\"\n",
       "   t1 = torch.nn.functional.linear(input, t_fc_2_weight, None)  # t1: \"cuda:0 f32[2, 2048, 11008]\"\n",
       "     # t1 = ltorch.linear(input, t_fc_2_weight, None)  # t1: \"cuda:0 f32[2, 2048, 11008]\"\n",
       "       # t1 = prims.linear(input, t_fc_2_weight, None)  # t1: \"cuda:0 f32[2, 2048, 11008]\"\n",
       "   [t7] = nvFusion0(t0, t1)\n",
       "     # t2 = prims.neg(t0)  # t2: \"cuda:0 f32[2, 2048, 11008]\"\n",
       "     # t3 = prims.exp(t2)  # t3: \"cuda:0 f32[2, 2048, 11008]\"\n",
       "     # t4 = prims.add(1.0, t3)  # t4: \"cuda:0 f32[2, 2048, 11008]\"\n",
       "     # t5 = prims.reciprocal(t4)  # t5: \"cuda:0 f32[2, 2048, 11008]\"\n",
       "     # t6 = prims.mul(t0, t5)  # t6: \"cuda:0 f32[2, 2048, 11008]\"\n",
       "     # t7 = prims.mul(t6, t1)  # t7: \"cuda:0 f32[2, 2048, 11008]\"\n",
       "   t8 = torch.nn.functional.linear(t7, t_proj_weight, None)  # t8: \"cuda:0 f32[2, 2048, 4096]\"\n",
       "     # t8 = ltorch.linear(t7, t_proj_weight, None)  # t8: \"cuda:0 f32[2, 2048, 4096]\"\n",
       "       # t8 = prims.linear(t7, t_proj_weight, None)  # t8: \"cuda:0 f32[2, 2048, 4096]\"\n",
       "   return {'output': t8, 'flat_args': [input, t_fc_1_weight, t_fc_2_weight, t_proj_weight], 'flat_output': (t8,)}, ((input, t0, t1, t7, t_proj_weight), ())]"
      ]
     },
     "execution_count": 61,
     "metadata": {},
     "output_type": "execute_result"
    }
   ],
   "source": [
    "thunder.last_traces(tm)[0]"
   ]
  },
  {
   "cell_type": "code",
   "execution_count": null,
   "id": "ce4217b7",
   "metadata": {},
   "outputs": [],
   "source": []
  }
 ],
 "metadata": {
  "kernelspec": {
   "display_name": "Python 3 (ipykernel)",
   "language": "python",
   "name": "python3"
  },
  "language_info": {
   "codemirror_mode": {
    "name": "ipython",
    "version": 3
   },
   "file_extension": ".py",
   "mimetype": "text/x-python",
   "name": "python",
   "nbconvert_exporter": "python",
   "pygments_lexer": "ipython3",
   "version": "3.11.7"
  }
 },
 "nbformat": 4,
 "nbformat_minor": 5
}
